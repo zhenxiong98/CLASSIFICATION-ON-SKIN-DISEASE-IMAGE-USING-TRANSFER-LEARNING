{
 "cells": [
  {
   "cell_type": "code",
   "execution_count": 1,
   "metadata": {},
   "outputs": [
    {
     "name": "stdout",
     "output_type": "stream",
     "text": [
      "c:\\Users\\Uzair\\Desktop\\CS Notes\\Year 3\\Semester 2\\Visual Image Processing\\Real Project\n",
      "The number of images in the dataset is 27153\n",
      "Found 27153 files belonging to 10 classes.\n",
      "Using 21723 files for training.\n",
      "Found 27153 files belonging to 10 classes.\n",
      "Using 5430 files for validation.\n"
     ]
    }
   ],
   "source": [
    "import tensorflow as tf\n",
    "from tensorflow import keras\n",
    "from tensorflow.keras import datasets, layers, models\n",
    "import matplotlib.pyplot as plt\n",
    "import numpy as np\n",
    "\n",
    "from PIL import Image\n",
    "import os\n",
    "import PIL\n",
    "import PIL.Image\n",
    "import sys\n",
    "import glob\n",
    "from pathlib import Path\n",
    "\n",
    "\n",
    "# Get the path of the dataset\n",
    "os.chdir(sys.path[0])\n",
    "working_directory = os.getcwd()\n",
    "print(working_directory)\n",
    "data_path = Path(working_directory + r\"/dataset/IMG_CLASSES\")\n",
    "\n",
    "# Count the number of images within the  dataset\n",
    "image_count = len(list(data_path.glob('*/*.jpg')))\n",
    "print(\"The number of images in the dataset is \" + str(image_count))\n",
    "\n",
    "# Batch size and dimensions\n",
    "batch_size = 30\n",
    "IMG_SIZE = (200,200)\n",
    "\n",
    "#Assigning the data splits and seed\n",
    "train_dataset = tf.keras.preprocessing.image_dataset_from_directory(\n",
    "    data_path,\n",
    "    validation_split=0.2,\n",
    "    subset='training',\n",
    "    seed=123,\n",
    "    image_size=IMG_SIZE,\n",
    "    batch_size=batch_size\n",
    ")\n",
    "\n",
    "validation_dataset = tf.keras.preprocessing.image_dataset_from_directory(\n",
    "    data_path,\n",
    "    validation_split=0.2,\n",
    "    subset=\"validation\",\n",
    "    seed=123,\n",
    "    image_size=IMG_SIZE,\n",
    "    batch_size=batch_size\n",
    ")"
   ]
  },
  {
   "cell_type": "code",
   "execution_count": 2,
   "metadata": {},
   "outputs": [],
   "source": [
    "data_augmentation = keras.Sequential([\n",
    "    layers.RandomRotation(factor=0.15),\n",
    "    layers.RandomTranslation(height_factor=0.1, width_factor=0.1),\n",
    "    layers.RandomFlip(),\n",
    "    layers.RandomContrast(factor=0.1),\n",
    "])"
   ]
  },
  {
   "cell_type": "code",
   "execution_count": 3,
   "metadata": {},
   "outputs": [],
   "source": [
    "preprocess_input = tf.keras.applications.vgg19.preprocess_input"
   ]
  },
  {
   "cell_type": "code",
   "execution_count": 6,
   "metadata": {},
   "outputs": [],
   "source": [
    "IMG_SIZE = (200,200)\n",
    "IMG_SHAPE = IMG_SIZE + (3,)\n",
    "base_model = tf.keras.applications.vgg19.VGG19(input_shape=IMG_SHAPE,\n",
    "                                               include_top=False,\n",
    "                                               weights='imagenet',\n",
    "                                               classes=10\n",
    "                                              )\n",
    "\n",
    "#freeze all the layer\n",
    "for layer in base_model.layers:\n",
    "    layer.trainable = False"
   ]
  },
  {
   "cell_type": "code",
   "execution_count": 7,
   "metadata": {},
   "outputs": [
    {
     "name": "stdout",
     "output_type": "stream",
     "text": [
      "Model: \"vgg19\"\n",
      "_________________________________________________________________\n",
      " Layer (type)                Output Shape              Param #   \n",
      "=================================================================\n",
      " input_1 (InputLayer)        [(None, 200, 200, 3)]     0         \n",
      "                                                                 \n",
      " block1_conv1 (Conv2D)       (None, 200, 200, 64)      1792      \n",
      "                                                                 \n",
      " block1_conv2 (Conv2D)       (None, 200, 200, 64)      36928     \n",
      "                                                                 \n",
      " block1_pool (MaxPooling2D)  (None, 100, 100, 64)      0         \n",
      "                                                                 \n",
      " block2_conv1 (Conv2D)       (None, 100, 100, 128)     73856     \n",
      "                                                                 \n",
      " block2_conv2 (Conv2D)       (None, 100, 100, 128)     147584    \n",
      "                                                                 \n",
      " block2_pool (MaxPooling2D)  (None, 50, 50, 128)       0         \n",
      "                                                                 \n",
      " block3_conv1 (Conv2D)       (None, 50, 50, 256)       295168    \n",
      "                                                                 \n",
      " block3_conv2 (Conv2D)       (None, 50, 50, 256)       590080    \n",
      "                                                                 \n",
      " block3_conv3 (Conv2D)       (None, 50, 50, 256)       590080    \n",
      "                                                                 \n",
      " block3_conv4 (Conv2D)       (None, 50, 50, 256)       590080    \n",
      "                                                                 \n",
      " block3_pool (MaxPooling2D)  (None, 25, 25, 256)       0         \n",
      "                                                                 \n",
      " block4_conv1 (Conv2D)       (None, 25, 25, 512)       1180160   \n",
      "                                                                 \n",
      " block4_conv2 (Conv2D)       (None, 25, 25, 512)       2359808   \n",
      "                                                                 \n",
      " block4_conv3 (Conv2D)       (None, 25, 25, 512)       2359808   \n",
      "                                                                 \n",
      " block4_conv4 (Conv2D)       (None, 25, 25, 512)       2359808   \n",
      "                                                                 \n",
      " block4_pool (MaxPooling2D)  (None, 12, 12, 512)       0         \n",
      "                                                                 \n",
      " block5_conv1 (Conv2D)       (None, 12, 12, 512)       2359808   \n",
      "                                                                 \n",
      " block5_conv2 (Conv2D)       (None, 12, 12, 512)       2359808   \n",
      "                                                                 \n",
      " block5_conv3 (Conv2D)       (None, 12, 12, 512)       2359808   \n",
      "                                                                 \n",
      " block5_conv4 (Conv2D)       (None, 12, 12, 512)       2359808   \n",
      "                                                                 \n",
      " block5_pool (MaxPooling2D)  (None, 6, 6, 512)         0         \n",
      "                                                                 \n",
      "=================================================================\n",
      "Total params: 20,024,384\n",
      "Trainable params: 0\n",
      "Non-trainable params: 20,024,384\n",
      "_________________________________________________________________\n"
     ]
    }
   ],
   "source": [
    "base_model.summary()"
   ]
  },
  {
   "cell_type": "code",
   "execution_count": 8,
   "metadata": {},
   "outputs": [],
   "source": [
    "inputs = tf.keras.Input(shape=(200,200, 3))\n",
    "\n",
    "x = preprocess_input(inputs)\n",
    "x = data_augmentation(x)\n",
    "x = base_model(x, training=False)\n",
    "\n",
    "# Flatten the output layer to 1 dimension\n",
    "x = layers.GlobalAveragePooling2D()(x)\n",
    "x = layers.BatchNormalization()(x)\n",
    "x = layers.Dropout(0.5)(x) \n",
    "x = layers.Dense(512, activation ='relu')(x)\n",
    "x = layers.BatchNormalization()(x)\n",
    "x = layers.Dropout(0.5)(x)\n",
    "\n",
    "predictions = layers.Dense(10, activation='softmax')(x)\n",
    "\n",
    "# Configure and compile the model\n",
    "\n",
    "model = keras.Model(inputs, predictions)\n",
    "model.compile(optimizer=tf.keras.optimizers.Adam(1e-3), loss=tf.keras.losses.sparse_categorical_crossentropy, metrics=['accuracy'])"
   ]
  },
  {
   "cell_type": "code",
   "execution_count": 9,
   "metadata": {},
   "outputs": [
    {
     "name": "stdout",
     "output_type": "stream",
     "text": [
      "Epoch 1/5\n",
      "725/725 [==============================] - 158s 200ms/step - loss: 1.6462 - accuracy: 0.4769 - val_loss: 1.0554 - val_accuracy: 0.6083\n",
      "Epoch 2/5\n",
      "725/725 [==============================] - 124s 171ms/step - loss: 1.2679 - accuracy: 0.5332 - val_loss: 1.0253 - val_accuracy: 0.6101\n",
      "Epoch 3/5\n",
      "725/725 [==============================] - 95s 130ms/step - loss: 1.2017 - accuracy: 0.5496 - val_loss: 0.9765 - val_accuracy: 0.6256\n",
      "Epoch 4/5\n",
      "725/725 [==============================] - 128s 176ms/step - loss: 1.1772 - accuracy: 0.5591 - val_loss: 0.9622 - val_accuracy: 0.6389\n",
      "Epoch 5/5\n",
      "725/725 [==============================] - 109s 150ms/step - loss: 1.1633 - accuracy: 0.5595 - val_loss: 0.9684 - val_accuracy: 0.6304\n"
     ]
    }
   ],
   "source": [
    "history = model.fit(train_dataset,\n",
    "                    epochs=5,\n",
    "                    validation_data=validation_dataset,\n",
    "                    batch_size = 64\n",
    "                   )"
   ]
  },
  {
   "cell_type": "code",
   "execution_count": 10,
   "metadata": {},
   "outputs": [],
   "source": [
    "for layer in base_model.layers[-30:]:\n",
    "    if not isinstance(layer, layers.BatchNormalization):\n",
    "        layer.trainable = True\n",
    "\n",
    "    \n",
    "model.compile(optimizer=tf.keras.optimizers.Adam(1e-4), loss=tf.keras.losses.sparse_categorical_crossentropy, metrics=['accuracy'])"
   ]
  },
  {
   "cell_type": "code",
   "execution_count": 11,
   "metadata": {},
   "outputs": [],
   "source": [
    "learning_rate_reduction = keras.callbacks.ReduceLROnPlateau(monitor='val_accuracy', patience=3, verbose=1, factor=0.5, \n",
    "                                            min_lr=0.000001, cooldown=2)"
   ]
  },
  {
   "cell_type": "code",
   "execution_count": 12,
   "metadata": {},
   "outputs": [
    {
     "name": "stdout",
     "output_type": "stream",
     "text": [
      "Model: \"model\"\n",
      "_________________________________________________________________\n",
      " Layer (type)                Output Shape              Param #   \n",
      "=================================================================\n",
      " input_2 (InputLayer)        [(None, 200, 200, 3)]     0         \n",
      "                                                                 \n",
      " tf.__operators__.getitem (S  (None, 200, 200, 3)      0         \n",
      " licingOpLambda)                                                 \n",
      "                                                                 \n",
      " tf.nn.bias_add (TFOpLambda)  (None, 200, 200, 3)      0         \n",
      "                                                                 \n",
      " sequential (Sequential)     (None, 200, 200, 3)       0         \n",
      "                                                                 \n",
      " vgg19 (Functional)          (None, 6, 6, 512)         20024384  \n",
      "                                                                 \n",
      " global_average_pooling2d (G  (None, 512)              0         \n",
      " lobalAveragePooling2D)                                          \n",
      "                                                                 \n",
      " batch_normalization (BatchN  (None, 512)              2048      \n",
      " ormalization)                                                   \n",
      "                                                                 \n",
      " dropout (Dropout)           (None, 512)               0         \n",
      "                                                                 \n",
      " dense (Dense)               (None, 512)               262656    \n",
      "                                                                 \n",
      " batch_normalization_1 (Batc  (None, 512)              2048      \n",
      " hNormalization)                                                 \n",
      "                                                                 \n",
      " dropout_1 (Dropout)         (None, 512)               0         \n",
      "                                                                 \n",
      " dense_1 (Dense)             (None, 10)                5130      \n",
      "                                                                 \n",
      "=================================================================\n",
      "Total params: 20,296,266\n",
      "Trainable params: 20,294,218\n",
      "Non-trainable params: 2,048\n",
      "_________________________________________________________________\n"
     ]
    }
   ],
   "source": [
    "model.summary()"
   ]
  },
  {
   "cell_type": "code",
   "execution_count": 13,
   "metadata": {},
   "outputs": [
    {
     "name": "stdout",
     "output_type": "stream",
     "text": [
      "Epoch 1/30\n",
      "725/725 [==============================] - 301s 408ms/step - loss: 1.3056 - accuracy: 0.5072 - val_loss: 1.1974 - val_accuracy: 0.5427 - lr: 1.0000e-04\n",
      "Epoch 2/30\n",
      "725/725 [==============================] - 226s 311ms/step - loss: 1.0903 - accuracy: 0.5764 - val_loss: 1.1033 - val_accuracy: 0.5575 - lr: 1.0000e-04\n",
      "Epoch 3/30\n",
      "725/725 [==============================] - 235s 324ms/step - loss: 0.9855 - accuracy: 0.6195 - val_loss: 0.9620 - val_accuracy: 0.6177 - lr: 1.0000e-04\n",
      "Epoch 4/30\n",
      "725/725 [==============================] - 205s 283ms/step - loss: 0.9364 - accuracy: 0.6424 - val_loss: 0.9657 - val_accuracy: 0.6337 - lr: 1.0000e-04\n",
      "Epoch 5/30\n",
      "725/725 [==============================] - 311s 429ms/step - loss: 0.8879 - accuracy: 0.6584 - val_loss: 0.8778 - val_accuracy: 0.6431 - lr: 1.0000e-04\n",
      "Epoch 6/30\n",
      "725/725 [==============================] - 208s 287ms/step - loss: 0.8709 - accuracy: 0.6606 - val_loss: 1.0402 - val_accuracy: 0.6092 - lr: 1.0000e-04\n",
      "Epoch 7/30\n",
      "725/725 [==============================] - 203s 279ms/step - loss: 0.8519 - accuracy: 0.6742 - val_loss: 0.8050 - val_accuracy: 0.6840 - lr: 1.0000e-04\n",
      "Epoch 8/30\n",
      "725/725 [==============================] - 222s 306ms/step - loss: 0.8143 - accuracy: 0.6906 - val_loss: 0.9307 - val_accuracy: 0.6488 - lr: 1.0000e-04\n",
      "Epoch 9/30\n",
      "725/725 [==============================] - 330s 455ms/step - loss: 0.8050 - accuracy: 0.6947 - val_loss: 0.8243 - val_accuracy: 0.6818 - lr: 1.0000e-04\n",
      "Epoch 10/30\n",
      "725/725 [==============================] - 211s 291ms/step - loss: 0.7739 - accuracy: 0.7075 - val_loss: 0.7543 - val_accuracy: 0.7129 - lr: 1.0000e-04\n",
      "Epoch 11/30\n",
      "725/725 [==============================] - 223s 307ms/step - loss: 0.7571 - accuracy: 0.7133 - val_loss: 0.8535 - val_accuracy: 0.6943 - lr: 1.0000e-04\n",
      "Epoch 12/30\n",
      "725/725 [==============================] - 228s 314ms/step - loss: 0.7345 - accuracy: 0.7246 - val_loss: 0.8421 - val_accuracy: 0.6777 - lr: 1.0000e-04\n",
      "Epoch 13/30\n",
      "725/725 [==============================] - ETA: 0s - loss: 0.7271 - accuracy: 0.7263\n",
      "Epoch 00013: ReduceLROnPlateau reducing learning rate to 4.999999873689376e-05.\n",
      "725/725 [==============================] - 408s 562ms/step - loss: 0.7271 - accuracy: 0.7263 - val_loss: 0.8915 - val_accuracy: 0.6772 - lr: 1.0000e-04\n",
      "Epoch 14/30\n",
      "725/725 [==============================] - 442s 609ms/step - loss: 0.6439 - accuracy: 0.7610 - val_loss: 0.7248 - val_accuracy: 0.7302 - lr: 5.0000e-05\n",
      "Epoch 15/30\n",
      "725/725 [==============================] - 444s 612ms/step - loss: 0.6161 - accuracy: 0.7684 - val_loss: 0.6656 - val_accuracy: 0.7460 - lr: 5.0000e-05\n",
      "Epoch 16/30\n",
      "725/725 [==============================] - 418s 576ms/step - loss: 0.6039 - accuracy: 0.7803 - val_loss: 0.7392 - val_accuracy: 0.7311 - lr: 5.0000e-05\n",
      "Epoch 17/30\n",
      "725/725 [==============================] - 420s 578ms/step - loss: 0.5826 - accuracy: 0.7868 - val_loss: 0.6931 - val_accuracy: 0.7385 - lr: 5.0000e-05\n",
      "Epoch 18/30\n",
      "725/725 [==============================] - 406s 560ms/step - loss: 0.5732 - accuracy: 0.7888 - val_loss: 0.6622 - val_accuracy: 0.7560 - lr: 5.0000e-05\n",
      "Epoch 19/30\n",
      "725/725 [==============================] - 412s 568ms/step - loss: 0.5556 - accuracy: 0.7991 - val_loss: 0.6686 - val_accuracy: 0.7541 - lr: 5.0000e-05\n",
      "Epoch 20/30\n",
      "725/725 [==============================] - 274s 377ms/step - loss: 0.5459 - accuracy: 0.8010 - val_loss: 0.6955 - val_accuracy: 0.7529 - lr: 5.0000e-05\n",
      "Epoch 21/30\n",
      "725/725 [==============================] - ETA: 0s - loss: 0.5296 - accuracy: 0.8087\n",
      "Epoch 00021: ReduceLROnPlateau reducing learning rate to 2.499999936844688e-05.\n",
      "725/725 [==============================] - 294s 406ms/step - loss: 0.5296 - accuracy: 0.8087 - val_loss: 0.7322 - val_accuracy: 0.7295 - lr: 5.0000e-05\n",
      "Epoch 22/30\n",
      "725/725 [==============================] - 419s 578ms/step - loss: 0.4746 - accuracy: 0.8294 - val_loss: 0.6871 - val_accuracy: 0.7578 - lr: 2.5000e-05\n",
      "Epoch 23/30\n",
      "725/725 [==============================] - 323s 445ms/step - loss: 0.4631 - accuracy: 0.8328 - val_loss: 0.6794 - val_accuracy: 0.7665 - lr: 2.5000e-05\n",
      "Epoch 24/30\n",
      "725/725 [==============================] - 205s 282ms/step - loss: 0.4496 - accuracy: 0.8379 - val_loss: 0.7754 - val_accuracy: 0.7379 - lr: 2.5000e-05\n",
      "Epoch 25/30\n",
      "725/725 [==============================] - 239s 329ms/step - loss: 0.4423 - accuracy: 0.8410 - val_loss: 0.6592 - val_accuracy: 0.7720 - lr: 2.5000e-05\n",
      "Epoch 26/30\n",
      "725/725 [==============================] - 229s 316ms/step - loss: 0.4294 - accuracy: 0.8492 - val_loss: 0.7126 - val_accuracy: 0.7628 - lr: 2.5000e-05\n",
      "Epoch 27/30\n",
      "725/725 [==============================] - 230s 317ms/step - loss: 0.4113 - accuracy: 0.8531 - val_loss: 0.6878 - val_accuracy: 0.7656 - lr: 2.5000e-05\n",
      "Epoch 28/30\n",
      "725/725 [==============================] - ETA: 0s - loss: 0.3962 - accuracy: 0.8584\n",
      "Epoch 00028: ReduceLROnPlateau reducing learning rate to 1.249999968422344e-05.\n",
      "725/725 [==============================] - 216s 298ms/step - loss: 0.3962 - accuracy: 0.8584 - val_loss: 0.6795 - val_accuracy: 0.7663 - lr: 2.5000e-05\n",
      "Epoch 29/30\n",
      "725/725 [==============================] - 235s 324ms/step - loss: 0.3675 - accuracy: 0.8706 - val_loss: 0.6509 - val_accuracy: 0.7779 - lr: 1.2500e-05\n",
      "Epoch 30/30\n",
      "725/725 [==============================] - 216s 297ms/step - loss: 0.3581 - accuracy: 0.8735 - val_loss: 0.6508 - val_accuracy: 0.7814 - lr: 1.2500e-05\n"
     ]
    }
   ],
   "source": [
    "history_unfreeze = model.fit(train_dataset,\n",
    "                    epochs=30,\n",
    "                    validation_data=validation_dataset,\n",
    "                    callbacks = [learning_rate_reduction]\n",
    ")"
   ]
  },
  {
   "cell_type": "code",
   "execution_count": 16,
   "metadata": {},
   "outputs": [
    {
     "data": {
      "image/png": "[encoded data removed]",
      "text/plain": [
       "<Figure size 576x576 with 2 Axes>"
      ]
     },
     "metadata": {
      "needs_background": "light"
     },
     "output_type": "display_data"
    }
   ],
   "source": [
    "acc = history_unfreeze.history['accuracy']\n",
    "val_acc = history_unfreeze.history['val_accuracy']\n",
    "\n",
    "loss = history_unfreeze.history['loss']\n",
    "val_loss = history_unfreeze.history['val_loss']\n",
    "\n",
    "plt.figure(figsize=(8, 8))\n",
    "plt.subplot(2, 1, 1)\n",
    "plt.plot(acc, label='Training Accuracy')\n",
    "plt.plot(val_acc, label='Validation Accuracy')\n",
    "plt.legend(loc='lower right')\n",
    "plt.ylabel('Accuracy')\n",
    "plt.ylim([min(plt.ylim()),1])\n",
    "plt.title('Training and Validation Accuracy')\n",
    "\n",
    "plt.subplot(2, 1, 2)\n",
    "plt.plot(loss, label='Training Loss')\n",
    "plt.plot(val_loss, label='Validation Loss')\n",
    "plt.legend(loc='upper right')\n",
    "plt.ylabel('Cross Entropy')\n",
    "plt.ylim([0,2.0])\n",
    "plt.title('Training and Validation Loss')\n",
    "plt.xlabel('epoch')\n",
    "plt.savefig('vgg19 score.png')\n",
    "plt.show()\n",
    "\n",
    "model.save(\"vgg19.h5\")"
   ]
  },
  {
   "cell_type": "code",
   "execution_count": 17,
   "metadata": {},
   "outputs": [],
   "source": [
    "import pandas as pd\n",
    "# convert the history.history dict to a pandas DataFrame:     \n",
    "hist_df = pd.DataFrame(history_unfreeze.history) \n",
    "\n",
    "# save to json:  \n",
    "hist_json_file = 'vgg19_finetune_history.json' \n",
    "with open(hist_json_file, mode='w') as f:\n",
    "    hist_df.to_json(f)\n",
    "    \n",
    "hist_csv_file = 'vgg19_finetune_history.csv'\n",
    "with open(hist_csv_file, mode='w') as f:\n",
    "    hist_df.to_csv(f)"
   ]
  },
  {
   "cell_type": "code",
   "execution_count": null,
   "metadata": {},
   "outputs": [],
   "source": []
  },
  {
   "cell_type": "code",
   "execution_count": null,
   "metadata": {},
   "outputs": [],
   "source": []
  },
  {
   "cell_type": "code",
   "execution_count": null,
   "metadata": {},
   "outputs": [],
   "source": []
  }
 ],
 "metadata": {
  "interpreter": {
   "hash": "9b432319b1b054266bcdf59eb764237d3d3272012fbf9a2e21780dc801e4d991"
  },
  "kernelspec": {
   "display_name": "Python 3.8.12 64-bit ('tf': conda)",
   "language": "python",
   "name": "python3"
  },
  "language_info": {
   "codemirror_mode": {
    "name": "ipython",
    "version": 3
   },
   "file_extension": ".py",
   "mimetype": "text/x-python",
   "name": "python",
   "nbconvert_exporter": "python",
   "pygments_lexer": "ipython3",
   "version": "3.9.7"
  },
  "orig_nbformat": 4
 },
 "nbformat": 4,
 "nbformat_minor": 2
}
